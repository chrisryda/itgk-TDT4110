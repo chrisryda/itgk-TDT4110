{
 "cells": [
  {
   "cell_type": "markdown",
   "metadata": {
    "deletable": false,
    "editable": false,
    "run_control": {
     "frozen": true
    }
   },
   "source": [
    "<nav class=\"navbar navbar-default\">\n",
    "  <div class=\"container-fluid\">\n",
    "    <div class=\"navbar-header\">\n",
    "      <a class=\"navbar-brand\" href=\"_Oving7.ipynb\">Øving 7</a>\n",
    "    </div>\n",
    "    <ul class=\"nav navbar-nav\">\n",
    "    <li><a href=\"Generelt%20om%20dictionary.ipynb\">Generelt om dictionary</a></li>\n",
    "    <li><a href=\"Innebygde%20funksjoner%20i%20dictionaries.ipynb\">Innebygde funksjoner</a></li>\n",
    "    <li><a href=\"Generelt%20om%20sets.ipynb\">Generelt om sets</a></li>\n",
    "    <li><a href=\"Generelt%20om%20filbehandling.ipynb\">Generelt om filbehandling</a></li>\n",
    "    <li><a href=\"Osteviruset.ipynb\">Osteviruset</a></li>\n",
    "    <li><a href=\"Bursdagsdatabasen.ipynb\">Bursdagsdatabasen</a></li>\n",
    "    <li><a href=\"Tallak%20teller%20antall%20tall.ipynb\">Tallak teller antall tall</a></li>\n",
    "    <li><a href=\"Enhetstesting.ipynb\">Enhetstesting</a></li>\n",
    "    <li><a href=\"Tidtaking.ipynb\">Tidtaking</a></li>\n",
    "    <li><a href=\"Moduler.ipynb\">Moduler</a></li>\n",
    "    <li><a href=\"Opptaksgrenser.ipynb\">Opptaksgrenser</a></li>\n",
    "    <li><a href=\"Soke%20i%20tekst.ipynb\">Søke i tekst</a></li>\n",
    "    <li class = \"active\"><a href=\"Tre%20paa%20rad.ipynb\">Tre på rad</a></li>\n",
    "    </ul>\n",
    "  </div>\n",
    "</nav>\n",
    "\n",
    "# Tre på rad\n",
    "\n",
    "**Læringsmål:**\n",
    "\n",
    "* Lister\n",
    "* Funksjoner \n",
    "* Betingelser\n",
    "* Strenger\n",
    " \n",
    "I denne oppgaven skal du implementere det populære spillet 3 på rad. Spillet er for to spillere; x og o, som plasserer brikker . En spiller vinner om den klarer å få 3 på rad, enten horisontalt, vertikalt eller diagonalt.\n",
    "\n",
    "\n",
    "**a)** Lag en funksjon som skriver ut brettet, det kan f.eks. se slikt ut om du vil:\n",
    "\n",
    "```python\n",
    "    1   2   3\n",
    "  -------------\n",
    "1 |   |   |   |\n",
    "  -------------\n",
    "2 |   |   |   |\n",
    "  -------------\n",
    "3 |   |   |   |\n",
    "  -------------\n",
    "    ```"
   ]
  },
  {
   "cell_type": "code",
   "execution_count": null,
   "metadata": {},
   "outputs": [],
   "source": []
  },
  {
   "cell_type": "markdown",
   "metadata": {
    "deletable": false,
    "editable": false,
    "run_control": {
     "frozen": true
    }
   },
   "source": [
    "**b)** Lag en funksjon som sjekker om en spiller har vunnet"
   ]
  },
  {
   "cell_type": "code",
   "execution_count": null,
   "metadata": {},
   "outputs": [],
   "source": []
  },
  {
   "cell_type": "markdown",
   "metadata": {
    "deletable": false,
    "editable": false,
    "run_control": {
     "frozen": true
    }
   },
   "source": [
    "**c)** Lag en funksjon som tar inn navnene til de to brukerne."
   ]
  },
  {
   "cell_type": "code",
   "execution_count": null,
   "metadata": {},
   "outputs": [],
   "source": []
  },
  {
   "cell_type": "markdown",
   "metadata": {
    "deletable": false,
    "editable": false,
    "run_control": {
     "frozen": true
    }
   },
   "source": [
    "**d)** Lag en funksjon som sjekker om et trekk er lovlig, altså at det ikke finnes andre brikker der."
   ]
  },
  {
   "cell_type": "code",
   "execution_count": null,
   "metadata": {},
   "outputs": [],
   "source": []
  },
  {
   "cell_type": "markdown",
   "metadata": {
    "deletable": false,
    "editable": false,
    "run_control": {
     "frozen": true
    }
   },
   "source": [
    "**e)** Lag en funksjon som sjekker at input fra brukeren er riktig, altså at man ikke skriver inn rare tegn, eller skriver inn koordinater utenfor spillebrettet."
   ]
  },
  {
   "cell_type": "code",
   "execution_count": null,
   "metadata": {},
   "outputs": [],
   "source": []
  },
  {
   "cell_type": "markdown",
   "metadata": {
    "deletable": false,
    "editable": false,
    "run_control": {
     "frozen": true
    }
   },
   "source": [
    "**f)** Sett dette sammen til et fullverdig 3 på rad spill!"
   ]
  },
  {
   "cell_type": "code",
   "execution_count": null,
   "metadata": {},
   "outputs": [],
   "source": [
    "import numpy as np\n",
    "\n",
    "def do_move(board, n : int, player : int):\n",
    "    d = {1: [0,0], 2: [0,1], 3: [0,2],\n",
    "         4: [1,0], 5: [1,1], 6: [1,2],\n",
    "         7: [2,0], 8: [2,1], 9: [2,2]\n",
    "        }\n",
    "    move = d[n]\n",
    "    board[move[0]][move[1]] = player\n",
    "\n",
    "def has_won(board, n : int):\n",
    "    num = n\n",
    "    for num in range(1, 3):\n",
    "        for r in board:\n",
    "            streak = 0\n",
    "            for c in r:\n",
    "                if c == num:\n",
    "                    streak += 1\n",
    "            if streak == 3:\n",
    "                return True\n",
    "        \n",
    "        for i in range(3):\n",
    "            streak = 0\n",
    "            for j in range(3):\n",
    "                if board[j][i] == num:\n",
    "                    streak += 1\n",
    "            if streak == 3:\n",
    "                return True\n",
    "        \n",
    "        if board[0][0] == num and board[1][1] == num and board[2][2] == num:\n",
    "            return True\n",
    "        if board[0][2] == num and board[1][1] == num and board[2][0] == num:\n",
    "            return True\n",
    "    \n",
    "    return False\n",
    "\n",
    "def is_valid_move(board, n : int):\n",
    "    if n < 1 or n > 9:\n",
    "        return False\n",
    "    \n",
    "    d = {1: [0,0], 2: [0,1], 3: [0,2],\n",
    "         4: [1,0], 5: [1,1], 6: [1,2],\n",
    "         7: [2,0], 8: [2,1], 9: [2,2]\n",
    "        }\n",
    "    move = d[n]\n",
    "    return (board[move[0]][move[1]] == 0)\n",
    "\n",
    "def is_valid_input(s : str):\n",
    "    return s.isnumeric() and int(s) > 0 and int(s) < 10\n",
    "    \n",
    "def get_board_str(board):\n",
    "    l = []\n",
    "    for row in board:\n",
    "        r = []\n",
    "        for num in row:\n",
    "            match(num):\n",
    "                case 1:\n",
    "                    r.append(\"x\")\n",
    "                case 2:\n",
    "                    r.append(\"o\")\n",
    "                case _:\n",
    "                    r.append(\" \")\n",
    "        l.append(r)            \n",
    "    return l\n",
    "\n",
    "def print_board(board, example=False):\n",
    "    l = get_board_str(board)\n",
    "    if example:\n",
    "        l = board\n",
    "    for i in range(3):\n",
    "        print(\"-------------\")\n",
    "        for num in l[i]:\n",
    "            print((\"|\"+ f\" {num} \" + \"\"), end=\"\")\n",
    "        print(\"|\")\n",
    "    print(\"-------------\")\n",
    "\n",
    "def main():\n",
    "    print(\"\\n\\n\\n*** Welcome to Tic-tac-toe! ***\\n\")\n",
    "    print(\"Choose where to move by entering a number (1-9), where each square is labeled as:\")\n",
    "    print_board([[\"1\",\"2\",\"3\"], [\"4\",\"5\",\"6\"], [\"7\",\"8\",\"9\"]], True)\n",
    "    print(\"\\n\\n\")\n",
    "    # p1 = input(\"Name of player one: \")\n",
    "    # p2 = input(\"Name of player two: \")\n",
    "    p1 = \"Gabrielle\"\n",
    "    p2 = \"Molly\"\n",
    "    players = [p1, p2]\n",
    "    \n",
    "    board = np.zeros((3,3))\n",
    "    print_board(board)\n",
    "    contd = True\n",
    "    p = 0\n",
    "    n_moves = 0\n",
    "    while contd:\n",
    "        if n_moves == 9:\n",
    "            print(\"\\nDraw!\")\n",
    "            contd = False\n",
    "            continue\n",
    "\n",
    "        p = p%2\n",
    "        move = input(f\"{players[p]}'s move (1-9): \")\n",
    "        if not is_valid_input(move):\n",
    "            print(\"Invalid input\\n\")\n",
    "            continue\n",
    "        if not is_valid_move(board, int(move)):\n",
    "            print(\"Invalid move\\n\")\n",
    "            continue\n",
    "        \n",
    "        do_move(board, int(move), p+1)\n",
    "        print_board(board)\n",
    "        if has_won(board, p+1):\n",
    "            print(f\"\\n\\n**** {players[p]} has won! ***\")\n",
    "            contd = False\n",
    "            continue\n",
    "\n",
    "        p += 1\n",
    "        n_moves += 1\n",
    "\n",
    "main()\n"
   ]
  }
 ],
 "metadata": {
  "kernelspec": {
   "display_name": "Python 3 (ipykernel)",
   "language": "python",
   "name": "python3"
  },
  "language_info": {
   "codemirror_mode": {
    "name": "ipython",
    "version": 3
   },
   "file_extension": ".py",
   "mimetype": "text/x-python",
   "name": "python",
   "nbconvert_exporter": "python",
   "pygments_lexer": "ipython3",
   "version": "3.11.5"
  },
  "toc": {
   "base_numbering": 1,
   "nav_menu": {},
   "number_sections": false,
   "sideBar": true,
   "skip_h1_title": false,
   "title_cell": "Table of Contents",
   "title_sidebar": "Contents",
   "toc_cell": false,
   "toc_position": {},
   "toc_section_display": true,
   "toc_window_display": false
  }
 },
 "nbformat": 4,
 "nbformat_minor": 2
}
