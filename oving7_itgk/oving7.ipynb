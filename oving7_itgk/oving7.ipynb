{
 "cells": [
  {
   "cell_type": "markdown",
   "metadata": {
    "deletable": false,
    "editable": false,
    "run_control": {
     "frozen": true
    }
   },
   "source": [
    "# Øving 7\n",
    "\n",
    "**Læringsmål:**\n",
    "\n",
    "- Dictionary\n",
    "- Sets\n",
    "- Lese fra fil\n",
    "- Skrive til fil\n",
    "- Lister\n",
    "\n",
    "## Godkjenning:\n",
    "\n",
    "For å få godkjent øvingen må du gjøre oppgaven [Tidtaking](Tidtaking.ipynb), i tillegg til minst ***4*** andre oppgaver. Vi anbefaler selvsagt å gjøre flere, ettersom man ikke får dekket alt pensum med kun 4-5 oppgaver.\n",
    "\n",
    "For å få dekket de viktigste konseptene anbefaler vi å gjøre følgende oppgaver:\n",
    "- [Generelt om dictionary](Generelt%20om%20dictionary.ipynb)\n",
    "- [Innebygde funksjoner](Innebygde%20funksjoner%20i%20dictionaries.ipynb)\n",
    "- [Generelt om sets](Generelt%20om%20sets.ipynb)\n",
    "- [Generelt om filbehandling](Generelt%20om%20filbehandling.ipynb)\n",
    "- [Moduler](Moduler.ipynb)\n",
    "\n",
    "Oppgaver som er litt ekstra vanskelig er markert med en stjerne.\n",
    "    \n",
    "Alle oppgavene skal demonstreres til en læringsassistent på sal. I oppgaver der du skriver programkode skal også denne vises fram. Lykke til!\n",
    "\n",
    "Oppgave|Tema|Vanskelighetsgrad\n",
    "---|---|---\n",
    "[Generelt om dictionary](Generelt%20om%20dictionary.ipynb)|Dictionaries|\n",
    "[Innebygde funksjoner](Innebygde%20funksjoner%20i%20dictionaries.ipynb)|Dictionaries|\n",
    "[Generelt om sets](Generelt%20om%20sets.ipynb)|Sets|\n",
    "[Generelt om filbehandling](Generelt%20om%20filbehandling.ipynb)|Filhåndtering|\n",
    "[Osteviruset](Osteviruset.ipynb)|Dictionaries|\n",
    "[Bursdagsdatabasen](Bursdagsdatabasen.ipynb)|Dictionaries, Exceptions|\n",
    "[Tallak teller antall tall](Tallak%20teller%20antall%20tall.ipynb)|Filhåndtering, Dictionaries\n",
    "[Enhetstesting](Enhetstesting.ipynb)|Enhetstesting, Spill, Kodeforståelse|\n",
    "[Tidtaking](Tidtaking.ipynb)|Tidtaking|\n",
    "[Moduler](Moduler.ipynb)|Moduler|\n",
    "[Opptaksgrenser](Opptaksgrenser.ipynb)|Filhåndtering, Dictionaries|![img](./../../Resources/Images/star_yellow.svg)\n",
    "[Søke i tekst](Soke%20i%20tekst.ipynb)|Filhåndtering, Dictionaries|![img](./../../Resources/Images/star_yellow.svg)\n",
    "[Tre på rad](Tre%20paa%20rad.ipynb)|Repetisjon: Spill|![img](./../../Resources/Images/star_yellow.svg)"
   ]
  }
 ],
 "metadata": {
  "kernelspec": {
   "display_name": "Python 3 (ipykernel)",
   "language": "python",
   "name": "python3"
  },
  "language_info": {
   "codemirror_mode": {
    "name": "ipython",
    "version": 3
   },
   "file_extension": ".py",
   "mimetype": "text/x-python",
   "name": "python",
   "nbconvert_exporter": "python",
   "pygments_lexer": "ipython3",
   "version": "3.10.8"
  },
  "toc": {
   "base_numbering": 1,
   "nav_menu": {},
   "number_sections": false,
   "sideBar": true,
   "skip_h1_title": false,
   "title_cell": "Table of Contents",
   "title_sidebar": "Contents",
   "toc_cell": false,
   "toc_position": {},
   "toc_section_display": true,
   "toc_window_display": false
  },
  "vscode": {
   "interpreter": {
    "hash": "63b89d9bfc14eb4486c27c9b239bf0a08c4c63a21c176f83036370f0e204c130"
   }
  }
 },
 "nbformat": 4,
 "nbformat_minor": 4
}
