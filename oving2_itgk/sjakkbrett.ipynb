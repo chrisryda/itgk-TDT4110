{
 "cells": [
  {
   "cell_type": "markdown",
   "metadata": {
    "deletable": false,
    "editable": false,
    "run_control": {
     "frozen": true
    }
   },
   "source": [
    "<nav class=\"navbar navbar-default\">\n",
    "  <div class=\"container-fluid\">\n",
    "    <div class=\"navbar-header\">\n",
    "      <a class=\"navbar-brand\" href=\"_Oving2.ipynb\">Øving 2</a>\n",
    "    </div>\n",
    "    <ul class=\"nav navbar-nav\">\n",
    "    <li><a href=\"Ulike%20typer%20if-setninger.ipynb\">Ulike typer if-setninger</a></li>\n",
    "    <li><a href=\"Sammenligning%20av%20strenger.ipynb\">Sammenligning av strenger</a></li>\n",
    "    <li><a href=\"Logiske%20operatorer%20og%20logiske%20uttrykk.ipynb\">Logiske operatorer og logiske uttrykk</a></li>\n",
    "    <li><a href=\"Forbrytelse%20og%20straff.ipynb\">Forbrytelse og straff</a></li>\n",
    "    <li ><a href=\"Aarstider.ipynb\">Årstider</a></li>\n",
    "    <li class=\"active\"><a href=\"Tekstbasert%20spill.ipynb\">Tekstbasert spill</a></li>\n",
    "    <li><a href=\"Andregradsligning.ipynb\">Andregradsligning</a></li>\n",
    "    <li><a href=\"Betingede%20funksjoner.ipynb\">Betingede funksjoner</a></li>\n",
    "    <li><a href=\"Sjakkbrett.ipynb\">Sjakkbrett</a></li>\n",
    "    <li><a href=\"Billettpriser%20og%20rabatter.ipynb\">Billettpriser og rabatter</a></li>\n",
    "    <li><a href=\"Skatteetaten.ipynb\">Skatteetaten</a></li>\n",
    "    <li><a href=\"Epletigging.ipynb\">Datamaskinen som tigget epler</a></li>\n",
    "    </ul>\n",
    "  </div>\n",
    "</nav>\n",
    "\n",
    "# Sjakkbrett\n",
    "\n",
    "**Læringsmål:**\n",
    "\n",
    "* Betingelser\n",
    "* Logiske uttrykk\n",
    "* Nøstede if-setninger\n",
    " \n",
    "Posisjoner på et sjakkbrett kan identifiseres med en bokstav og et tall. Bokstaven identifiserer kolonnen (kalt \"linjen\" i sjakk), og tallet identifiserer raden.\n",
    "\n",
    "\n",
    "![img](./../../Resources/Images/chessboard.png)\n"
   ]
  },
  {
   "cell_type": "markdown",
   "metadata": {
    "deletable": false,
    "editable": false,
    "run_control": {
     "frozen": true
    }
   },
   "source": [
    "### a)"
   ]
  },
  {
   "cell_type": "markdown",
   "metadata": {
    "deletable": false,
    "run_control": {
     "frozen": true
    }
   },
   "source": [
    "**I denne oppgaven skal du lage en funksjon som tar inn en posisjon fra brukeren, og bruker if-setninger til å finne ut hvilken farge ruten for denne posisjonen har.**\n",
    "\n",
    "Ta utgangspunkt i de tre kodelinjene under, som hjelper deg litt på vei. Disse viser hvordan man kan bruke indeksering av en strengvariabel (her kalt `pos`) for å finne enkelttegn.\n",
    "\n",
    "Indeks 0 er det første tegnet i strengen, når `pos = 'a5'` vil dermed `pos[0]` være `'a'` og `pos[1]` være `'5'`.\n",
    "\n",
    "I din kode må du\n",
    "\n",
    "* bytte ut kodelinjen `posisjon = 'a5'` med en kodelinje som i stedet ber bruker om å taste inn posisjonen\n",
    "* legge til mer kode under kodelinjen `tall = ...` for å ta en beslutning om den innskrevne posisjonen er hvit eller svart rute.\n",
    "\n",
    "Eksempel på kjøring:\n",
    "\n",
    "  \n",
    "```python\n",
    "farge_på_posisjon('a5')  \n",
    "Svart  \n",
    "```\n",
    "  \n",
    "```python\n",
    "farge_på_posisjon('d3')  \n",
    "Hvit  \n",
    "```\n",
    "  \n",
    "```python\n",
    "farge_på_posisjon('f6')\n",
    "Svart\n",
    "```"
   ]
  },
  {
   "cell_type": "code",
   "execution_count": 1,
   "metadata": {
    "ExecuteTime": {
     "end_time": "2019-07-02T08:14:18.283300Z",
     "start_time": "2019-07-02T08:14:18.272588Z"
    }
   },
   "outputs": [
    {
     "name": "stdout",
     "output_type": "stream",
     "text": [
      "Black\n",
      "White\n",
      "Black\n"
     ]
    }
   ],
   "source": [
    "def farge_på_posisjon(pos):\n",
    "    char = pos[0]\n",
    "    num = int(pos[1])\n",
    "    if char == \"a\" or char == \"c\" or char == \"e\" or char == \"g\":\n",
    "        if num % 2 == 0:\n",
    "            return \"White\"\n",
    "        else:\n",
    "            return \"Black\"\n",
    "    else:\n",
    "        if num % 2 == 0:\n",
    "            return \"Black\"\n",
    "        else:\n",
    "            return \"White\"\n",
    "        \n",
    "print(farge_på_posisjon(\"a5\"))\n",
    "print(farge_på_posisjon(\"d3\"))\n",
    "print(farge_på_posisjon(\"f6\"))\n",
    "    "
   ]
  },
  {
   "cell_type": "markdown",
   "metadata": {
    "deletable": false,
    "editable": false,
    "heading_collapsed": true,
    "run_control": {
     "frozen": true
    }
   },
   "source": [
    "#### Hint"
   ]
  },
  {
   "cell_type": "markdown",
   "metadata": {
    "deletable": false,
    "editable": false,
    "hidden": true,
    "run_control": {
     "frozen": true
    }
   },
   "source": [
    "Modulo (`%`)"
   ]
  },
  {
   "cell_type": "markdown",
   "metadata": {
    "deletable": false,
    "editable": false,
    "run_control": {
     "frozen": true
    }
   },
   "source": [
    "## b) Valgfri ekstraoppgave"
   ]
  },
  {
   "cell_type": "markdown",
   "metadata": {
    "deletable": false,
    "run_control": {
     "frozen": true
    }
   },
   "source": [
    "Denne trenger du ikke ha fått til for å få godkjent deloppgaven.\n",
    "\n",
    "**Utvid programmet så det også håndterer mulig feil input fra bruker, på følgende måte**:\n",
    "\n",
    "* Hvis brukeren skriver inn en streng med en annen lengde enn 2 tegn (enten kortere eller lenger), skal programmet svare `\"Feil input. Du må skrive akkurat to tegn\"` og så avslutte.\n",
    "* Hvis innskrevet tekst er 2 tegn lang men ikke tilsvarer en sjakkrute, skal programmet svare som vist under. Dette skal altså skje hvis første tegn noe annet enn en bokstav A-H eller a-h, eller andre tegn er noe annet enn et tall 1-8.\n",
    "\n",
    "  \n",
    "```\n",
    "gyldig_posisjon('A9')\n",
    "\n",
    "Feil input.\n",
    "Første tegn må være en bokstav A-H eller a-h\n",
    "Andre tegn må være et tall 1-8\n",
    "```\n",
    "\n",
    "Hvis lengden er to tegn, med bokstav og tall innen lovlige verdiområder, skal programmet gi samme resultat som i kjøringene i oppgave a"
   ]
  },
  {
   "cell_type": "code",
   "execution_count": 26,
   "metadata": {},
   "outputs": [
    {
     "name": "stdout",
     "output_type": "stream",
     "text": [
      "Invalid input.\n",
      "First char must be a letter A-H or a-h\n",
      "Second letter must be a number 1-8\n"
     ]
    }
   ],
   "source": [
    "def farge_på_posisjon(pos):\n",
    "    if len(pos) != 2:\n",
    "        print(\"Invalid input. Input must be exactly two (2) chars.\")\n",
    "        return\n",
    "    char = pos[0].lower()\n",
    "    num = int(pos[1])\n",
    "    if char < \"a\" or char > \"h\" or num < 1 or num > 8:\n",
    "        print(\"Invalid input.\\nFirst char must be a letter A-H or a-h\\nSecond letter must be a number 1-8\")\n",
    "        return \n",
    "    \n",
    "    if char == \"a\" or char == \"c\" or char == \"e\" or char == \"g\":\n",
    "        if num % 2 == 0:\n",
    "            return \"White\"\n",
    "        else:\n",
    "            return \"Black\"\n",
    "    else:\n",
    "        if num % 2 == 0:\n",
    "            return \"Black\"\n",
    "        else:\n",
    "            return \"White\"\n",
    "        \n",
    "farge_på_posisjon(\"h9\")"
   ]
  }
 ],
 "metadata": {
  "celltoolbar": "Edit Metadata",
  "kernelspec": {
   "display_name": "Python 3",
   "language": "python",
   "name": "python3"
  },
  "language_info": {
   "codemirror_mode": {
    "name": "ipython",
    "version": 3
   },
   "file_extension": ".py",
   "mimetype": "text/x-python",
   "name": "python",
   "nbconvert_exporter": "python",
   "pygments_lexer": "ipython3",
   "version": "3.11.3"
  },
  "toc": {
   "base_numbering": 1,
   "nav_menu": {},
   "number_sections": false,
   "sideBar": true,
   "skip_h1_title": false,
   "title_cell": "Table of Contents",
   "title_sidebar": "Contents",
   "toc_cell": false,
   "toc_position": {},
   "toc_section_display": true,
   "toc_window_display": false
  }
 },
 "nbformat": 4,
 "nbformat_minor": 2
}
