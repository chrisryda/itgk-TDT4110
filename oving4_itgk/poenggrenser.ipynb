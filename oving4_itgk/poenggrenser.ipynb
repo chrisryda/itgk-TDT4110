{
 "cells": [
  {
   "cell_type": "markdown",
   "id": "31c49ca8",
   "metadata": {},
   "source": [
    "<nav class=\"navbar navbar-default\">\n",
    "  <div class=\"container-fluid\">\n",
    "    <div class=\"navbar-header\">\n",
    "      <a class=\"navbar-brand\" href=\"_Oving4.ipynb\">Øving 4</a>\n",
    "    </div>\n",
    "    <ul class=\"nav navbar-nav\">\n",
    "        <li><a href=\"Grunnleggende%20om%20funksjoner.ipynb\">Grunnleggende om funksjoner</a></li>\n",
    "        <li><a href=\"Varierte%20funksjoner.ipynb\">Varierte funksjoner</a></li>\n",
    "        <li><a href=\"Lokale%20variabler.ipynb\">Lokale variabler</a></li>\n",
    "        <li><a href=\"Globale%20variabler.ipynb\">Globale variabler</a></li>\n",
    "        <li><a href=\"Euklids%20algoritme.ipynb\">Euklids algoritme</a></li>\n",
    "        <li><a href=\"Primtall.ipynb\">Primtall</a></li>\n",
    "        <li><a href=\"Multiplikasjon.ipynb\">Multiplikasjon</a></li>\n",
    "        <li class=\"active\"><a href=\"Poenggrenser.ipynb\">Poenggrenser</a></li>\n",
    "        <li><a href=\"Den%20store%20sporreundersokelsen.ipynb\">Den store spørreundersøkelsen</a></li>\n",
    "        <li><a href=\"Arbeidsdager.ipynb\">Arbeidsdager</a></li>\n",
    "        <li><a href=\"Sekantmetoden.ipynb\">Sekantmetoden</a></li>\n",
    "        <li><a href=\"Not%20quite%20Blackjack.ipynb\">Not quite Blackjack</a></li>\n",
    "    </ul>\n",
    "  </div>\n",
    "</nav>\n",
    "\n",
    "# Poenggrenser\n",
    "\n",
    "**Læringsmål:**\n",
    "* Funksjoner\n",
    "* Numpy\n",
    "* Matplotlib\n",
    "* Løkker\n"
   ]
  },
  {
   "cell_type": "markdown",
   "id": "462abea4",
   "metadata": {},
   "source": [
    "Til denne oppgaven har vi laget to filer for deg. Filen [Poenggrenser](./Poenggrenser.txt) innheholder gjennomsnittlig poengrense for alle studier (hvor ikke alle kom inn) på NTNU fra 2009 til og med 2018. Filen [År.txt](./År.txt) innheholder årstallene 2009 - 2018. Hvert år i filen År.txt korresponderer med poenggrense på samme linje i Poenggrenser.txt.\n",
    "\n",
    "For eksempel er første poenggrense i Poenggrenser.txt gjennomsnittlig poenggrense for å komme inn på NTNU i 2009 og siste er for 2018. "
   ]
  },
  {
   "cell_type": "markdown",
   "id": "abfb7a4a",
   "metadata": {
    "heading_collapsed": true
   },
   "source": [
    "## Tutorial: Numpy arrays"
   ]
  },
  {
   "cell_type": "markdown",
   "id": "d5c85bca",
   "metadata": {
    "hidden": true
   },
   "source": [
    "Du har lært en god del om Numpy arrays allerede. Du vet for eksempel at arrays er mye brukt for å lagre mengder av data i én datatype. Du vet også at man oppretter et array med Numpys funksjon `array()`; `np.array([1, 2, 3, 4])`. \n",
    "\n",
    "Til nå har du ikke sett hvordan vi kan hente data ut av disse arrayene, for det er også mulig!"
   ]
  },
  {
   "cell_type": "code",
   "execution_count": 4,
   "id": "41081f4d",
   "metadata": {
    "hidden": true
   },
   "outputs": [
    {
     "data": {
      "text/plain": [
       "5"
      ]
     },
     "execution_count": 4,
     "metadata": {},
     "output_type": "execute_result"
    }
   ],
   "source": [
    "import numpy as np\n",
    "\n",
    "arr = np.array([5, 4, 3, 2, 1])\n",
    "arr[0]"
   ]
  },
  {
   "cell_type": "markdown",
   "id": "79e631d0",
   "metadata": {
    "hidden": true
   },
   "source": [
    "Kodeblokken over oppretter et nytt array, bestående av tallene fra 5 til 1. Linje 4 henter ut det _første_ elementet i arrayet, altså `5`. Denne måten å hente ut elementer på kalles _indexering_. Navnet indexering kommer fra ordet _index_. En _index_ kan tenkes på som en \"plass\" i arrayet. Arrays starter med index 0 og siste gyldige inex, eller plass, er lengden på arrayet - 1. "
   ]
  },
  {
   "cell_type": "markdown",
   "id": "05cb90bc",
   "metadata": {
    "hidden": true
   },
   "source": [
    "![img](../../Resources/Images/indexing.png)"
   ]
  },
  {
   "cell_type": "markdown",
   "id": "365c0f8f",
   "metadata": {
    "hidden": true
   },
   "source": [
    "Bildet over viser arrayet fra kodeeksempelet og de korresponderende indexene til elementene. Her ser vi lett at første gyldige index er `0` og siste gyldige index er `4` (eller lengden til arrayet (`5`) - 1). Vi ser også at hvis vi henter ut elementet på index `0` får vi `5`, akkurat som i kodeeksempelet over. "
   ]
  },
  {
   "cell_type": "code",
   "execution_count": 5,
   "id": "27b6a003",
   "metadata": {
    "hidden": true
   },
   "outputs": [
    {
     "name": "stdout",
     "output_type": "stream",
     "text": [
      "Andre element i arrayet mitt er 4\n",
      "Tredje element i arrayet mitt er 3\n",
      "Andre pluss tredje element er 7\n"
     ]
    }
   ],
   "source": [
    "import numpy as np\n",
    "\n",
    "arr = np.array([5, 4, 3, 2, 1])\n",
    "andre_element = arr[1]\n",
    "\n",
    "print(f'Andre element i arrayet mitt er {andre_element}')\n",
    "\n",
    "tredje_element = arr[2]\n",
    "\n",
    "print(f'Tredje element i arrayet mitt er {tredje_element}')\n",
    "print(f'Andre pluss tredje element er {andre_element + tredje_element}')"
   ]
  },
  {
   "cell_type": "markdown",
   "id": "f1c129f3",
   "metadata": {
    "hidden": true
   },
   "source": [
    "Kodeblokken over viser et eksempel på hvordan vi kan hente ut elementer fra et array og lagre de i en variabel. Etter vi har lagret de i en ny variabel, kan vi enkelt gjøre andre ting med elementene, som f.eks å summere de, eller sette de i et nytt array. "
   ]
  },
  {
   "cell_type": "code",
   "execution_count": 6,
   "id": "6482e72d",
   "metadata": {
    "hidden": true
   },
   "outputs": [
    {
     "ename": "IndexError",
     "evalue": "index 5 is out of bounds for axis 0 with size 5",
     "output_type": "error",
     "traceback": [
      "\u001b[0;31m---------------------------------------------------------------------------\u001b[0m",
      "\u001b[0;31mIndexError\u001b[0m                                Traceback (most recent call last)",
      "\u001b[1;32m/home/crd/Documents/y4s1/itgk-TDT4110/oving4_itgk/poenggrenser.ipynb Cell 11\u001b[0m line \u001b[0;36m4\n\u001b[1;32m      <a href='vscode-notebook-cell:/home/crd/Documents/y4s1/itgk-TDT4110/oving4_itgk/poenggrenser.ipynb#X13sZmlsZQ%3D%3D?line=0'>1</a>\u001b[0m \u001b[39mimport\u001b[39;00m \u001b[39mnumpy\u001b[39;00m \u001b[39mas\u001b[39;00m \u001b[39mnp\u001b[39;00m\n\u001b[1;32m      <a href='vscode-notebook-cell:/home/crd/Documents/y4s1/itgk-TDT4110/oving4_itgk/poenggrenser.ipynb#X13sZmlsZQ%3D%3D?line=2'>3</a>\u001b[0m arr \u001b[39m=\u001b[39m np\u001b[39m.\u001b[39marray([\u001b[39m5\u001b[39m, \u001b[39m4\u001b[39m, \u001b[39m3\u001b[39m, \u001b[39m2\u001b[39m, \u001b[39m1\u001b[39m])\n\u001b[0;32m----> <a href='vscode-notebook-cell:/home/crd/Documents/y4s1/itgk-TDT4110/oving4_itgk/poenggrenser.ipynb#X13sZmlsZQ%3D%3D?line=3'>4</a>\u001b[0m arr[\u001b[39m5\u001b[39;49m]\n",
      "\u001b[0;31mIndexError\u001b[0m: index 5 is out of bounds for axis 0 with size 5"
     ]
    }
   ],
   "source": [
    "import numpy as np\n",
    "\n",
    "arr = np.array([5, 4, 3, 2, 1])\n",
    "arr[5]"
   ]
  },
  {
   "cell_type": "markdown",
   "id": "c11bb750",
   "metadata": {
    "hidden": true
   },
   "source": [
    "Kodeblokken over viser hva som skjer om du prøver å indexere et array med en ugyldig index. Da får man en feilmelding som ser ut som dette:\n",
    "\n",
    "```python\n",
    "---------------------------------------------------------------------------\n",
    "IndexError                                Traceback (most recent call last)\n",
    "C:\\Users\\SANDER~1\\AppData\\Local\\Temp/ipykernel_3968/2546241728.py in <module>\n",
    "      2\n",
    "      3 arr = np.array([5, 4, 3, 2, 1])\n",
    "----> 4 arr[5]\n",
    "\n",
    "IndexError: index 5 is out of bounds for axis 0 with size 5\n",
    "```\n",
    "\n",
    "`IndexError` betyr akkurat dette - vi har forsøkt å indexere på en ugyldig index. Akkurat her har vi forøkt å indexere på `5`, hvor arrayet vårt har lengde `5`. "
   ]
  },
  {
   "cell_type": "markdown",
   "id": "7540f796",
   "metadata": {
    "heading_collapsed": true
   },
   "source": [
    "## Tutorial: Smakebit på iterering gjennom arrays"
   ]
  },
  {
   "cell_type": "markdown",
   "id": "2302306b",
   "metadata": {
    "hidden": true
   },
   "source": [
    "Til nå har du brukt løkker stort sett til å \"kjøre samme kode flere ganger\". Dette er et veldig fint bruksområde for løkker, men ikke den eneste.\n",
    "\n",
    "Løkker er en veldig fin måte å _iterere_ gjennom arrays. Dette betyr å \"gå gjennom\" element for element i arrayet. Før du lærer deg dette, skal du lære hvordan du finner lengden på et array, som er veldig nyttig for iterering gjennom arrayet. Den letteste måten å finne lengden på et array er med den innebygde funksjonen `len()`:"
   ]
  },
  {
   "cell_type": "code",
   "execution_count": null,
   "id": "86feb8dd",
   "metadata": {
    "hidden": true
   },
   "outputs": [
    {
     "data": {
      "text/plain": [
       "5"
      ]
     },
     "execution_count": 4,
     "metadata": {},
     "output_type": "execute_result"
    }
   ],
   "source": [
    "import numpy as np\n",
    "\n",
    "arr = np.array([5, 4, 3, 2, 1])\n",
    "len(arr)"
   ]
  },
  {
   "cell_type": "markdown",
   "id": "5a3adc20",
   "metadata": {
    "hidden": true
   },
   "source": [
    "Kodeblokken over illustrerer hvordan vi lett ser at lengden på arrayet vårt er `5`. Når vi nå kan dette, kan vi lære hvordan vi kan iterere gjennom arrayet vårt. Til dette bruker vi en `for`-løkke, hvor telleren går igjennom _indexene_ til arrayet (se tutorial over):"
   ]
  },
  {
   "cell_type": "code",
   "execution_count": null,
   "id": "16c14b1c",
   "metadata": {
    "hidden": true
   },
   "outputs": [
    {
     "name": "stdout",
     "output_type": "stream",
     "text": [
      "Element på index 0 er 5\n",
      "Element på index 1 er 4\n",
      "Element på index 2 er 3\n",
      "Element på index 3 er 2\n",
      "Element på index 4 er 1\n"
     ]
    }
   ],
   "source": [
    "import numpy as np\n",
    "\n",
    "arr = np.array([5, 4, 3, 2, 1])\n",
    "\n",
    "for i in range(len(arr)):\n",
    "    print(f'Element på index {i} er {arr[i]}')"
   ]
  },
  {
   "cell_type": "markdown",
   "id": "af87efc6",
   "metadata": {
    "hidden": true
   },
   "source": [
    "I for-løkken over, teller `i` oppover fra `0` _til_ lengden av arrayet `5`, men _ikke_ tilogmed `5`. Husk at `range()`-funksjonen kun gir deg opp til, men ikke tilogmed det siste elementet. Vi kan derfor bruke denne variablen til å hente ut elementene på de forskjellige indexene i arrayet vårt med `arr[i]`. Akkurat nå printer bare løkken alle elementene etter tur, men vi kan for eksempel multiplisere alle elementene i arrayet:"
   ]
  },
  {
   "cell_type": "code",
   "execution_count": null,
   "id": "2799a549",
   "metadata": {
    "hidden": true
   },
   "outputs": [
    {
     "name": "stdout",
     "output_type": "stream",
     "text": [
      "Ganger nå 1 med 5, produktet er nå 5\n",
      "Ganger nå 5 med 4, produktet er nå 20\n",
      "Ganger nå 20 med 3, produktet er nå 60\n",
      "Ganger nå 60 med 2, produktet er nå 120\n",
      "Ganger nå 120 med 1, produktet er nå 120\n",
      "Produktet ble til slutt 120\n"
     ]
    }
   ],
   "source": [
    "import numpy as np\n",
    "\n",
    "arr = np.array([5, 4, 3, 2, 1])\n",
    "\n",
    "prod = 1\n",
    "for i in range(len(arr)):\n",
    "    print(f'Ganger nå {prod} med {arr[i]}', end = '')\n",
    "    prod = prod * arr[i]\n",
    "    print(f', produktet er nå {prod}')\n",
    "    \n",
    "print(f'Produktet ble til slutt {prod}')"
   ]
  },
  {
   "cell_type": "markdown",
   "id": "663139a0",
   "metadata": {
    "hidden": true
   },
   "source": [
    "I kodeblokken over ser vi hvordan vi kan iterere gjennom arrayet og multiplisere alle elementene. Variablen `prod`, som er definert _utenfor_ `for`-løkken holder styr på produktet igjennom kjøringen av løkken. Denne starter med startverdien `1`, og multiplisereres med hvert enkelt element i arrayet etter tur. "
   ]
  },
  {
   "cell_type": "markdown",
   "id": "6da1625e",
   "metadata": {
    "heading_collapsed": true
   },
   "source": [
    "## a)"
   ]
  },
  {
   "cell_type": "markdown",
   "id": "c21b14c9",
   "metadata": {
    "hidden": true
   },
   "source": [
    "Din oppgave er å lage funksjonen `min_max_score(operation)`. Funksjonen leser innholdet av filene [Poenggrenser.txt](Poenggrenser.txt) og [År.txt](År.txt) og returnerer _hvilket år_ i perioden 2009 - 2018 som hadde, samt _poenggrensen_ som var enten:\n",
    "\n",
    "* lavest gjennomsnittlig poenggrense om `operation` er `\"min\"`\n",
    "* høyest gjennomsnittlig poengrense om `operation` er `\"max\"`\n",
    "* `-1` dersom `operation` ikke er en av `\"max\"` eller `\"min\"` \n",
    "\n",
    "Denne oppgaven skal løses _uten_ bruk av innebygde matematiske funksjoner enten i standard Python, eller Numpy.\n",
    "\n",
    "For å lese inn en fil som et Numpy array, kan man bruke `np.loadtxt(filnavn)`"
   ]
  },
  {
   "cell_type": "code",
   "execution_count": null,
   "id": "b25a2c3f",
   "metadata": {},
   "outputs": [
    {
     "name": "stdout",
     "output_type": "stream",
     "text": [
      "[45.037838 45.425676 46.107595 46.452113 46.564286 47.632353 46.311111\n",
      " 44.260902 44.807092 46.624762]\n"
     ]
    }
   ],
   "source": [
    "# Slik leser man inn en fil:\n",
    "poengrenser = np.loadtxt(\"poenggrenser.txt\")\n",
    "print(poengrenser)"
   ]
  },
  {
   "cell_type": "markdown",
   "id": "0fad6754",
   "metadata": {},
   "source": [
    "\n",
    "***Skriv koden din i kodeblokken under***"
   ]
  },
  {
   "cell_type": "code",
   "execution_count": 8,
   "id": "960bb646",
   "metadata": {
    "hidden": true
   },
   "outputs": [
    {
     "data": {
      "text/plain": [
       "(2016.0, 44.260902)"
      ]
     },
     "execution_count": 8,
     "metadata": {},
     "output_type": "execute_result"
    }
   ],
   "source": [
    "def min_max_score(op):\n",
    "    points = np.loadtxt(\"poenggrenser.txt\")\n",
    "    years = np.loadtxt(\"aar.txt\")\n",
    "    \n",
    "    if op == \"min\":\n",
    "        min_p = float(\"inf\")\n",
    "        for i in range(len(points)):\n",
    "            if points[i] < min_p:\n",
    "                min_p = points[i]\n",
    "                min_idx = i\n",
    "        return years[min_idx], min_p\n",
    "    \n",
    "    elif op == \"max\":\n",
    "        max_p = -1 # We assume achieving a negative score is impossible in-game\n",
    "        for i in range(len(points)):\n",
    "            if points[i] > max_p:\n",
    "                max_p = points[i]\n",
    "                max_idx = i\n",
    "        return years[max_idx], max_p\n",
    "    \n",
    "    else:\n",
    "        return -1\n",
    " \n",
    "min_max_score(\"min\")"
   ]
  },
  {
   "cell_type": "markdown",
   "id": "e13fb93a",
   "metadata": {
    "heading_collapsed": true,
    "hidden": true
   },
   "source": [
    "### Hint:"
   ]
  },
  {
   "cell_type": "markdown",
   "id": "e933494c",
   "metadata": {
    "hidden": true
   },
   "source": [
    "Vi kan returnere to verdier fra en funksjon ved å separere de med komma:\n",
    "\n",
    "```python\n",
    "def foo():\n",
    "    return 1, 2\n",
    "\n",
    ">>> foo()\n",
    "(1, 2)\n",
    "```"
   ]
  },
  {
   "cell_type": "markdown",
   "id": "5468b09c",
   "metadata": {
    "heading_collapsed": true
   },
   "source": [
    "## b)"
   ]
  },
  {
   "cell_type": "markdown",
   "id": "d9a233a5",
   "metadata": {
    "hidden": true
   },
   "source": [
    "I denne oppgaven skal du gjøre det samme som i **a)**, men ved hjelp av innebygde funksjoner i **numpy**. \n",
    "\n",
    "Lag funksjonen `better_min_max_score(operation)`, som gjør det samme som funksjonen over, men ved hjelp av **numpy**.\n",
    "\n",
    "***Skriv koden din i kodeblokken under***"
   ]
  },
  {
   "cell_type": "code",
   "execution_count": null,
   "id": "6af92be0",
   "metadata": {
    "hidden": true
   },
   "outputs": [
    {
     "data": {
      "text/plain": [
       "(2014.0, 47.632353)"
      ]
     },
     "execution_count": 14,
     "metadata": {},
     "output_type": "execute_result"
    }
   ],
   "source": [
    "def min_max_score(op):\n",
    "    points = np.loadtxt(\"poenggrenser.txt\")\n",
    "    years = np.loadtxt(\"aar.txt\")\n",
    "    \n",
    "    if op == \"min\":\n",
    "        return years[points.argmin()], points.min()\n",
    "    \n",
    "    elif op == \"max\":\n",
    "        return years[points.argmax()], points.max()\n",
    "    \n",
    "    else:\n",
    "        return -1\n",
    " \n",
    "min_max_score(\"max\")"
   ]
  },
  {
   "cell_type": "markdown",
   "id": "ab399d1c",
   "metadata": {
    "heading_collapsed": true,
    "hidden": true
   },
   "source": [
    "### Hint:"
   ]
  },
  {
   "cell_type": "markdown",
   "id": "d2512285",
   "metadata": {
    "hidden": true
   },
   "source": [
    "`np.where(condition)` returnerer et array med indexer hvor `condition` er `True`. For eksempel: \n",
    "\n",
    "```python\n",
    ">>> arr = np.array([0, 1, 2, 3, 4, 5])\n",
    ">>> np.where(arr < 4)\n",
    "array([0, 1, 2, 3])\n",
    "```\n",
    "\n",
    "Hvor de returnerte verdiene er _indexer_, ikke verdier fra det originale arrayet."
   ]
  },
  {
   "cell_type": "markdown",
   "id": "84e539e1",
   "metadata": {
    "heading_collapsed": true
   },
   "source": [
    "## c)"
   ]
  },
  {
   "cell_type": "markdown",
   "id": "45ec03ed",
   "metadata": {
    "hidden": true
   },
   "source": [
    "Du skal nå sjekke om funksjonene du lagde i **a)** og **b)** fungerer på forventet måte. Dette skal du gjøre ved å plotte alle poenggrensene i [Poenggrenser.txt](./Poenggrenser.txt) på y-aksen og årene i [År.txt](./År.txt) på x-aksen. Plottet skal være en heltrukken, sammenhengende linje.\n",
    "\n",
    "***Ekstraoppgave***: Legg inn punkter for min og max poenggrenser i plottet. Du trenger ikke gjøre dette for å få øvingen godkjent.\n",
    "\n",
    "Husk å importere matplotlib.\n",
    "\n",
    "***Skriv koden din i kodeblokken under***"
   ]
  },
  {
   "cell_type": "code",
   "execution_count": 10,
   "id": "7239eab8",
   "metadata": {
    "hidden": true
   },
   "outputs": [
    {
     "data": {
      "image/png": "[encoded data removed]",
      "text/plain": [
       "<Figure size 640x480 with 1 Axes>"
      ]
     },
     "metadata": {},
     "output_type": "display_data"
    }
   ],
   "source": [
    "import matplotlib.pyplot as plt\n",
    "%matplotlib inline\n",
    "\n",
    "points = np.loadtxt(\"poenggrenser.txt\")\n",
    "years = np.loadtxt(\"aar.txt\")\n",
    "\n",
    "plt.scatter(years, points)\n",
    "plt.plot(years, points)\n",
    "plt.show()"
   ]
  },
  {
   "cell_type": "markdown",
   "id": "5c80fbac",
   "metadata": {
    "heading_collapsed": true,
    "hidden": true
   },
   "source": [
    "### Hint:"
   ]
  },
  {
   "cell_type": "markdown",
   "id": "6309967b",
   "metadata": {
    "hidden": true
   },
   "source": [
    "**Hint ekstraoppgave:** `plt.scatter(x_verdier, y_verdier)` vil plotte punkter, hvor første x-verdi korresponderer med første y-verdi, andre x-verdi med andre y-verdi osv...  "
   ]
  }
 ],
 "metadata": {
  "kernelspec": {
   "display_name": "Python 3.8.8 ('base')",
   "language": "python",
   "name": "python3"
  },
  "language_info": {
   "codemirror_mode": {
    "name": "ipython",
    "version": 3
   },
   "file_extension": ".py",
   "mimetype": "text/x-python",
   "name": "python",
   "nbconvert_exporter": "python",
   "pygments_lexer": "ipython3",
   "version": "3.11.5"
  },
  "vscode": {
   "interpreter": {
    "hash": "ad2bdc8ecc057115af97d19610ffacc2b4e99fae6737bb82f5d7fb13d2f2c186"
   }
  }
 },
 "nbformat": 4,
 "nbformat_minor": 5
}
