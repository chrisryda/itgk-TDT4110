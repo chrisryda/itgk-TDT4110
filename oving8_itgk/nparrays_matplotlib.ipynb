{
 "cells": [
  {
   "cell_type": "markdown",
   "metadata": {
    "deletable": false,
    "editable": false,
    "run_control": {
     "frozen": true
    }
   },
   "source": [
    " <nav class=\"navbar navbar-default\">\n",
    "  <div class=\"container-fluid\">\n",
    "    <div class=\"navbar-header\">\n",
    "      <a class=\"navbar-brand\" href=\"_Oving8.ipynb\">Øving 8</a>\n",
    "    </div>\n",
    "    <ul class=\"nav navbar-nav\">\n",
    "    <li ><a href=\"Matplotlib.ipynb\">Matplotlib</a></li>\n",
    "    <li ><a href=\"Eksamen%202012.ipynb\">Eksamen Python 2012</a></li>\n",
    "    <li ><a href=\"Sudoku.ipynb\">Sudoku</a></li>\n",
    "    <li ><a href=\"numpy-arrays%20og%20matplotlib.ipynb\">Numpy-arrays og matplotlib</a></li>\n",
    "    <li class=\"active\"><a href=\"Bokanalyse%20med%20plotting.ipynb\">Bokanalyse med plotting</a></li>\n",
    "    <li ><a href=\"Sjakk.ipynb\">Sjakk</a></li>\n",
    "    </ul>\n",
    "  </div>\n",
    "</nav>\n",
    "\n",
    "\n",
    "\n",
    "# Numpy-arrays og matplotlib\n",
    "\n",
    "**Læringsmål**\n",
    "\n",
    "* Numpy-arrays\n",
    "* Plotting\n",
    "\n"
   ]
  },
  {
   "cell_type": "markdown",
   "metadata": {},
   "source": [
    "Numpy og matplotlib brukes ofte til statistikk og analyser, og i denne oppgaven skal vi laste inn et stort datasett og gjennomføre enkle analyser på det. Datasettet som er hentet [herfra](https://archive.ics.uci.edu/ml/datasets/Wine+Quality) inneholder 1599 rødviner og dets egenskaper og kvalitet. For å hente dataen kan du kjøre cellen under. vin-parameterne og vin-arrayet er lagret som globale variabler. Hver verdi i WINE_PARAMETERS tilsvarer en kolonne i WINES: Eksempelvis får du kvaliteten på alle vinene ved å kalle \n",
    "```python\n",
    "quality_all_wines = WINES[:,11]\n",
    "```\n",
    "og all karakteristikk for den første vinen ved å kalle \n",
    "```python\n",
    "quality_all_wines = WINES[0,:]\n",
    "```"
   ]
  },
  {
   "cell_type": "code",
   "execution_count": 140,
   "metadata": {},
   "outputs": [
    {
     "name": "stdout",
     "output_type": "stream",
     "text": [
      "Parametre: ['fixed acidity', 'volatile acidity', 'citric acid', 'residual sugar', 'chlorides', 'free sulfur dioxide', 'total sulfur dioxide', 'density', 'pH', 'sulphates', 'alcohol', 'quality']\n",
      "Størrelse på WINES: (1599, 12)\n"
     ]
    }
   ],
   "source": [
    "import numpy as np\n",
    "import csv\n",
    "%matplotlib inline\n",
    "\n",
    "\n",
    "with open(\"csv-files/winequality-red.csv\", 'r') as f:\n",
    "    wines = list(csv.reader(f, delimiter=\";\"))\n",
    "\n",
    "WINE_PARAMETERS = wines[0]\n",
    "WINES = np.array(wines[1:], dtype=float)\n",
    "\n",
    "print(f\"Parametre: {WINE_PARAMETERS}\")\n",
    "print(f\"Størrelse på WINES: {WINES.shape}\")"
   ]
  },
  {
   "cell_type": "markdown",
   "metadata": {
    "deletable": false,
    "editable": false,
    "run_control": {
     "frozen": true
    }
   },
   "source": [
    "## a) Hent riktig data fra arrayet WINES"
   ]
  },
  {
   "cell_type": "markdown",
   "metadata": {},
   "source": [
    "Lag en funksjon `get_wine_index(parameter)` som tar inn en av parameterne i WINE_PARAMETERS og returnerer indexen i WINE_PARAMETERS. Denne indexen tilsvarer også tilhørende kolonne i WINES. Hvis parameteren ikke eksisterer skal funksjonen printe ut \"Fant ikke parameteren\" og returnere None.\n",
    "\n",
    "Denne funksjonen trenger vi for å hente ut riktig kolonne i WINES senere uten å måtte manuelt telle gjennom og finne riktig indeks.\n",
    "\n",
    "`get_wine_index(\"quality\")` skal returnere 11.\n"
   ]
  },
  {
   "cell_type": "code",
   "execution_count": 141,
   "metadata": {},
   "outputs": [
    {
     "data": {
      "text/plain": [
       "11"
      ]
     },
     "execution_count": 141,
     "metadata": {},
     "output_type": "execute_result"
    }
   ],
   "source": [
    "def get_wine_index(param : str):\n",
    "    if param not in WINE_PARAMETERS:\n",
    "        print(f\"Could not find parameter: {param}\")\n",
    "        return None\n",
    "    return WINE_PARAMETERS.index(param)\n",
    "\n",
    "get_wine_index(\"quality\")"
   ]
  },
  {
   "cell_type": "markdown",
   "metadata": {},
   "source": [
    "## b) Koble data fra ulike kolonner sammen"
   ]
  },
  {
   "cell_type": "markdown",
   "metadata": {},
   "source": [
    "I denne funksjonen skal du lage en funksjon `create_analysis_dict(noekkel_parameter, verdi_parameter)` som oppretter en dictionary der nøkkelen er alle unike verdier for parameter \"noekkel_parameter\", og verdien til nøkkelen er et numpy array med alle verdiene fra kolonnen \"verdi_parameter\" som har verdi tilsvarende nøkkelen i den førstnevnte kolonnen.\n",
    "\n",
    "Eksempelvis, hvis vi valge \"quality\" som nøkkel-parameter, og \"alcohol\" som verdi-parameter, vil nøklene i dictionarien bestå av unike kvalitets-scorer (3, 4, 5, 6, 7, 8), og hvert element vil bestå av alle alkoholprosentene til vinene som har den scoren."
   ]
  },
  {
   "cell_type": "code",
   "execution_count": 142,
   "metadata": {},
   "outputs": [],
   "source": [
    "def create_analysis_dict(key_param, value_param):\n",
    "    d = {}\n",
    "    keys = WINES[:,get_wine_index(key_param)]\n",
    "    values = WINES[:,get_wine_index(value_param)]\n",
    "    for i in range(len(keys)):\n",
    "        if keys[i] in d:\n",
    "            d[keys[i]].append(values[i])\n",
    "        else:\n",
    "            d[keys[i]] = [values[i]]\n",
    "    return d\n",
    "\n",
    "test = create_analysis_dict(\"quality\", \"alcohol\")"
   ]
  },
  {
   "cell_type": "markdown",
   "metadata": {},
   "source": [
    "Hint: Bruk funksjonen fra oppgave a for å finne riktig kolonne-indeks for parameterne"
   ]
  },
  {
   "cell_type": "markdown",
   "metadata": {},
   "source": [
    "## Oppgave c)"
   ]
  },
  {
   "cell_type": "markdown",
   "metadata": {},
   "source": [
    "I denne oppgaven skal vi utføre enkel statistikk på dictionarien vi lagde i forrige oppgave. Dictionarien inneholder informasjon om to utvalge karakteristikker, og vi ønsker å finne ut minimum, maksimum og gjennomsnittlige verdier. Lag en function som tar inn en slik dictionary og returnerer fire numpy-array-elementer: nøkler, gjennomsnitt, maks-verdier og min-verdier. Alle disse arrayene skal ha samme størrelse\n",
    "\n"
   ]
  },
  {
   "cell_type": "code",
   "execution_count": 143,
   "metadata": {},
   "outputs": [
    {
     "name": "stdout",
     "output_type": "stream",
     "text": [
      "[5. 6. 7. 4. 8. 3.] [8.5 8.4 9.2 9.  9.8 8.4] [14.9 14.  14.  13.1 14.  11. ] [ 9.9  10.63 11.47 10.27 12.09  9.96]\n"
     ]
    }
   ],
   "source": [
    "def get_stats_from_dict(d : dict):\n",
    "    l = [] \n",
    "    for k in d.keys():\n",
    "        l.append(d[k])\n",
    "    \n",
    "    mi, ma, avg = [], [], []\n",
    "    for i in range(len(l)):\n",
    "        mi.append(np.min(l[i]))\n",
    "        ma.append(np.max(l[i]))\n",
    "        avg.append(round(np.average(l[i]), 2))\n",
    "\n",
    "    return np.array(list(d.keys())), np.array(mi), np.array(ma), np.array(avg)\n",
    "\n",
    "k, mi, ma, avg = get_stats_from_dict(test)\n",
    "print(k, mi, ma, avg)"
   ]
  },
  {
   "cell_type": "markdown",
   "metadata": {},
   "source": [
    "## Oppgave d)"
   ]
  },
  {
   "cell_type": "markdown",
   "metadata": {},
   "source": [
    "Nå er det på tide å sette alt sammen! Bestem deg for to parametere du ønsker å se sammenhengen med! Bruk funksjonene fra tidligere oppgaver og plot sammenhengen mellom de på en fin måte! Her kan velge litt hvordan du ønsker å gjøre det, men det kan være smart å ha nøkler fra funksjonen i fra forrige oppgave langs x-aksen, og de andre verdiene langs y-aksen.\n",
    "\n",
    "Et forslag til parametere å se på er \"quality\" og \"alcohol\"."
   ]
  },
  {
   "cell_type": "code",
   "execution_count": 144,
   "metadata": {},
   "outputs": [
    {
     "data": {
      "text/plain": [
       "(0.0, 20.0)"
      ]
     },
     "execution_count": 144,
     "metadata": {},
     "output_type": "execute_result"
    },
    {
     "data": {
      "image/png": "[encoded data removed]",
      "text/plain": [
       "<Figure size 640x480 with 1 Axes>"
      ]
     },
     "metadata": {},
     "output_type": "display_data"
    }
   ],
   "source": [
    "import matplotlib.pyplot as plt\n",
    "\n",
    "y_elements = {\n",
    "    'min': mi,\n",
    "    'max': ma,\n",
    "    'avg': avg,\n",
    "}\n",
    "\n",
    "x = np.arange(len(k))  # the label locations\n",
    "width = 0.25  # the width of the bars\n",
    "multiplier = 0\n",
    "\n",
    "fig, ax = plt.subplots(layout='constrained')\n",
    "\n",
    "for attribute, measurement in y_elements.items():\n",
    "    offset = width * multiplier\n",
    "    rects = ax.bar(x + offset, measurement, width, label=attribute)\n",
    "    ax.bar_label(rects, padding=3)\n",
    "    multiplier += 1\n",
    "\n",
    "ax.set_xticks(x + width, k)\n",
    "ax.set_xlabel(\"quality\")\n",
    "ax.legend(loc='upper left', ncols=3)\n",
    "ax.set_ylim(0, 20)"
   ]
  }
 ],
 "metadata": {
  "kernelspec": {
   "display_name": "Python 3.8.8 ('base')",
   "language": "python",
   "name": "python3"
  },
  "language_info": {
   "codemirror_mode": {
    "name": "ipython",
    "version": 3
   },
   "file_extension": ".py",
   "mimetype": "text/x-python",
   "name": "python",
   "nbconvert_exporter": "python",
   "pygments_lexer": "ipython3",
   "version": "3.11.5"
  },
  "toc": {
   "base_numbering": 1,
   "nav_menu": {},
   "number_sections": false,
   "sideBar": true,
   "skip_h1_title": false,
   "title_cell": "Table of Contents",
   "title_sidebar": "Contents",
   "toc_cell": false,
   "toc_position": {},
   "toc_section_display": true,
   "toc_window_display": false
  },
  "vscode": {
   "interpreter": {
    "hash": "ad2bdc8ecc057115af97d19610ffacc2b4e99fae6737bb82f5d7fb13d2f2c186"
   }
  }
 },
 "nbformat": 4,
 "nbformat_minor": 2
}
