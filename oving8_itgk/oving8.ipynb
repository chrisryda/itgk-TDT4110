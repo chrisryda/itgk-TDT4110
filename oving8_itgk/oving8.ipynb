{
 "cells": [
  {
   "cell_type": "markdown",
   "metadata": {
    "deletable": false,
    "editable": false,
    "run_control": {
     "frozen": true
    }
   },
   "source": [
    "# Øving 8\n",
    "\n",
    "**Læringsmål:**\n",
    "\n",
    "- Nympy\n",
    "- Plotting\n",
    "- Sammensatte programmer\n",
    "\n",
    " \n",
    "\n",
    "## Godkjenning (LES DETTE NØYE):\n",
    "\n",
    "\n",
    "\n",
    "#### Obligatorisk:\n",
    "- Matplotlib\n",
    "  \n",
    "#### Velg 1 av alternativene (Hvis du gjør 2, kan øvingen telle som 2 godkjente øvinger):\n",
    "- Assorterte Eksamensoppgaver (Minst 100 vektingspoeng)\n",
    "- Sudoku\n",
    "- Numpy-Arrays og matplotlib + Bokanalyse med plotting\n",
    "- Sjakk (Teller alene som 2 øvinger)\n",
    "\n",
    "Du må altså gjøre Matplotlib og et av alternativene over for å få godkjent øvingen. Muligheten for å gjøre enda en ekstra oppgave er tiltenkt de som ikke har nok godkjente øvinger i faget. Man kan maksimalt få to godkjente øvinger på denne måten. \n",
    "\n",
    "Vanskelige oppgaver er markert med stjerne og ekstra vanskelige oppgaver er markert med to stjerner.\n",
    "\n",
    "Alle oppgavene skal demonstreres til en læringsassistent på sal. I oppgaver der du skriver programkode skal også denne vises fram. Lykke til!\n",
    "\n",
    "\n",
    "Oppgave | Tema | Vanskelighetsgrad\n",
    "--- | --- | ---\n",
    "[Matplotlib](Matplotlib.ipynb)|Plotting|\n",
    "[Assorterte Eksamensoppgaver](Assorterte%20Eksamensoppgaver.ipynb)|Repetisjon|\n",
    "[Sudoku](Sudoku.ipynb)|Repetisjon, Sammensatte problemer|\n",
    "[Numpy arrays og matplotlib](numpy-arrays%20og%20matplotlib.ipynb)|Numpy arrays, Plotting|\n",
    "[Bokanalyse med plotting](Bokanalyse%20med%20plotting.ipynb)|Filhåndtering, Plotting, Funksjoner, Strenghåndtering|\n",
    "[Sjakk](Sjakk.ipynb)|Repetisjon, Sammensatte problemer|![img](./../../Resources/Images/star_yellow.svg) ![img](./../../Resources/Images/star_yellow.svg)"
   ]
  }
 ],
 "metadata": {
  "kernelspec": {
   "display_name": "Python 3 (ipykernel)",
   "language": "python",
   "name": "python3"
  },
  "language_info": {
   "codemirror_mode": {
    "name": "ipython",
    "version": 3
   },
   "file_extension": ".py",
   "mimetype": "text/x-python",
   "name": "python",
   "nbconvert_exporter": "python",
   "pygments_lexer": "ipython3",
   "version": "3.10.8"
  },
  "vscode": {
   "interpreter": {
    "hash": "84613ed7f399af20e1e2ef8af506be689ae865345b9dceeaa3cba33ce1bef069"
   }
  }
 },
 "nbformat": 4,
 "nbformat_minor": 4
}
