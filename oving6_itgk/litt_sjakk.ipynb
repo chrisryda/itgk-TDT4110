{
 "cells": [
  {
   "cell_type": "markdown",
   "metadata": {
    "deletable": false,
    "run_control": {
     "frozen": true
    }
   },
   "source": [
    "<nav class=\"navbar navbar-default\">\n",
    "  <div class=\"container-fluid\">\n",
    "    <div class=\"navbar-header\">\n",
    "      <a class=\"navbar-brand\" href=\"_Oving6.ipynb\">Øving 6</a>\n",
    "    </div>\n",
    "    <ul class=\"nav navbar-nav\">\n",
    "    <li ><a href=\"Aksessering.ipynb\">Aksessering av karakter</a></li>\n",
    "    <li ><a href=\"Strenger%20og%20konkatinering.ipynb\">Konkatinering</a></li>\n",
    "    <li ><a href=\"Slicing.ipynb\">Slicing</a></li>\n",
    "    <li ><a href=\"Tekstbehandling.ipynb\">Tekstbehandling</a></li>\n",
    "    <li ><a href=\"Strenghandtering.ipynb\">Strenghåndtering</a></li>\n",
    "    <li ><a href=\"Innebygde%20funksjoner.ipynb\">Innebygde funksjoner og lister</a></li>\n",
    "    <li ><a href=\"Fjesboka.ipynb\">Fjesboka</a></li>\n",
    "    <li ><a href=\"Akkorder%20og%20toner.ipynb\">Akkorder og toner</a></li>\n",
    "    <li><a href=\"Ideel%20gasslov.ipynb\">Ideel Gasslov</a></li>\n",
    "    <li><a href=\"Sammenhengende%20tallrekke.ipynb\">Sammenhengende Tallrekke</a></li>\n",
    "    <li ><a href=\"Sortering.ipynb\">Sortering</a></li>\n",
    "    <li ><a href=\"Strengmanipulasjon.ipynb\">Strengmanipulasjon</a></li>\n",
    "    <li ><a href=\"Kryptering.ipynb\">Kryptering</a></li>\n",
    "    <li class=\"active\"><a href=\"Litt%20sjakk.ipynb\">Litt Sjakk</a></li>\n",
    "    <li ><a href=\"Lister%20og%20tupler.ipynb\">Lister og tupler</a></li>\n",
    "    </ul>\n",
    "  </div>\n",
    "</nav>\n",
    "\n",
    "# Litt sjakk\n",
    "\n",
    "**Læringsmål:**\n",
    "\n",
    "* 2d-lister\n",
    "\n",
    "I denne oppgaven skal det lages brettrepresentasjon og små deler av logikk til sjakk. Det vises kun en eksempelstilling, men husk at koden du lager skal fungere for alle mulige stillinger."
   ]
  },
  {
   "cell_type": "markdown",
   "metadata": {
    "deletable": false,
    "editable": false,
    "run_control": {
     "frozen": true
    }
   },
   "source": [
    "### a)"
   ]
  },
  {
   "cell_type": "markdown",
   "metadata": {
    "deletable": false,
    "editable": false,
    "run_control": {
     "frozen": true
    }
   },
   "source": [
    "Først trengs det en måte å representere brettet med brikkene i programmet. Dette skal gjøres vha 2d-lister, det vil si en liste som inneholder flere lister. Lag en funksjon `make_board(board_string)`, som tar inn en string-representasjon av brettet, og returnerer en 2d-liste. Inni denne listen skal det være *None* hvis det ikke er en brikke i ruten det er snakk om, og en enkel bokstav (string) for ulike brikker. Hvite brikker skal ha stor bokstav (blokkbokstav) og svarte skal ha små bokstaver. Brikke-bokstav-kombinasjoner er: (konge: k, dronning: q, tårn: r, løper: b, hest: n, og bonde: p).\n",
    "\n",
    "board_string vil være én lang string, og har et punktum for tomme ruter, og ellers samme bokstav-koding for brikkene som breskrevet over (konge: k (svart), K (hvit), osv...). Legg merke til at de første fem tegnene i stringen skal være i den øverste raden på brettet, og de siste fem skal være i den nederste raden.\n",
    "\n",
    "I dag skal vi leke med et litt mindre sjakkbrett, som kun er 5x5 ruter stort.\n",
    "\n",
    "**Eksempel på kjøring:**\n",
    "```python\n",
    "board_string_1 = 'rkn.r.p.....P..PP.PPB.K..'\n",
    "board = make_board(board_string_1)\n",
    "```\n",
    "```python\n",
    "board -> [['r', 'k', 'n', None, 'r'], [None, 'p', None, None, None], [None, None, 'P', None, None],  \n",
    "['P', 'P', None, 'P', 'P'], ['B', None, 'K', None, None]]\n",
    "```\n",
    "\n",
    "Her er et bilde av brettet dette eksempelet skal representere:\n",
    "\n",
    "![i](./../../Resources/Images/litt-sjakk.png)\n",
    "\n",
    "***Skriv koden i kodeblokken under og test at den fungerer som den skal***"
   ]
  },
  {
   "cell_type": "code",
   "execution_count": 56,
   "metadata": {},
   "outputs": [
    {
     "name": "stdout",
     "output_type": "stream",
     "text": [
      "[['r', 'k', 'n', None, 'r'], [None, 'p', None, None, None], [None, None, 'P', None, None], ['P', 'P', None, 'P', 'P'], ['B', None, 'K', None, None]]\n"
     ]
    }
   ],
   "source": [
    "def make_board(s : str) -> list:\n",
    "    if len(s) % 5 != 0:\n",
    "        return []\n",
    "    \n",
    "    board = []\n",
    "    row = []\n",
    "    for i in range(len(s)):\n",
    "        row.append(None) if s[i] == \".\" else row.append(s[i])\n",
    "        if len(row) == 5:\n",
    "            board.append(row)\n",
    "            row = []\n",
    "    return board\n",
    "\n",
    "\n",
    "board_string = \"rkn.r.p.....P..PP.PPB.K..\"\n",
    "board = make_board(board_string)\n",
    "print(board)\n",
    "\n"
   ]
  },
  {
   "cell_type": "markdown",
   "metadata": {
    "deletable": false,
    "editable": false,
    "run_control": {
     "frozen": true
    }
   },
   "source": [
    "### b)"
   ]
  },
  {
   "cell_type": "markdown",
   "metadata": {
    "deletable": false,
    "editable": false,
    "run_control": {
     "frozen": true
    }
   },
   "source": [
    "Lag en funksjon `get_piece(board, x, y)` som returnerer brikken i ruten x, y, fra 2d-listen **board**, hvor x er kolonne og y er rad. Dersom det ikke er en brikke i ruten, skal funksjonen returnere *None*. Ellers skal den returnere strengen som representerer brikken (dvs. det som befinner seg i board).\n",
    "\n",
    "Radene og kolonnene skal være 1-indekserte, det vil si rader og kolonner går fra 1 til 5. Nederste rad skal være rad 1, og venstre kolonne skal være kolonne 1.  \n",
    "Altså skal `get_piece(board, 1, 1)` returnere innholdet i nederste venstre hjørne, og `get_piece(board, 5, 5)` skal returnere innholdet i øverste høyre hjørne.\n",
    "\n",
    "**Eksempel på kjøring: (samme brett og stilling som eksempelet i oppgave a)**\n",
    "```python\n",
    "board_string_1 = 'rkn.r.p.....P..PP.PPB.K..'\n",
    "board = make_board(board_string_1)\n",
    "```\n",
    "```python\n",
    "get_piece(board, 2, 1)\n",
    "-> None\n",
    "  ```\n",
    "  ```python\n",
    "get_piece(board, 5, 2)\n",
    "-> 'P'\n",
    "  ```\n",
    "  \n",
    "***Skriv koden i kodeblokken under og test at den fungerer som den skal***"
   ]
  },
  {
   "cell_type": "code",
   "execution_count": 57,
   "metadata": {},
   "outputs": [
    {
     "name": "stdout",
     "output_type": "stream",
     "text": [
      "None\n",
      "P\n"
     ]
    }
   ],
   "source": [
    "def get_piece(board : list, x : int, y : int) -> str:\n",
    "    if x > 5 or y > 5 or x < 1 or y < 1:\n",
    "        return \"Invalid coordinates\"\n",
    "    return board[5-y][x-1]\n",
    "\n",
    "print(get_piece(board, 2, 1))\n",
    "print(get_piece(board, 5, 2))"
   ]
  },
  {
   "cell_type": "markdown",
   "metadata": {
    "deletable": false,
    "editable": false,
    "run_control": {
     "frozen": true
    }
   },
   "source": [
    "### c)"
   ]
  },
  {
   "cell_type": "markdown",
   "metadata": {
    "deletable": false,
    "editable": false,
    "run_control": {
     "frozen": true
    }
   },
   "source": [
    "Nå skal det lages logikk for å sjekke hvilke trekk som kan gjøres av visse brikker. **I denne oppgaven ser vi kun på bonden**. For å få illustrert faktiske sjakk-regler anbefales et raskt Google-søk.\n",
    "\n",
    "Reglene du skal implementere er:\n",
    "\n",
    "* Bonden kan alltid gå ett skritt framover, med mindre det står noe i veien (på ruten foran).\n",
    "* Hvis det står en motstanders brikke i en av de to rutene skrått fremover, kan bonden slå disse.\n",
    "* Hvis bonden står i sin start-posisjon (med vårt brett, rad 2 for hvit og rad 4 for svart), kan den gå to skritt framover.\n",
    "* *Du trenger ikke å implementere \"forvandling\" som skjer når bonden har gått helt over til andre siden.*\n",
    "* *Du trenger heller ikke implementere \"en passant\". Hvis du ikke vet hva dette er, kan du ignorere dette.*\n",
    "\n",
    "Lag en funksjon `get_legal_moves(board, x, y)` som returnerer en liste med (x, y)-tupler som er gyldige trekk. Hvis funksjonen kalles med parametre som er en tom rute eller ruten inneholder noe annet enn en bonde, skal en tom liste returneres. board er en 2D-liste, og x og y er heltall. Her er det lurt å bruke `get_piece`-funksjonen du har laget underveis.\n",
    "\n",
    "Her må det tas hensyn til om brikken er hvit eller svart, da de går i motsatte retninger (hint: funksjonen ord(c) kan brukes til å få tak i ASCII-verdien til bokstaven c. Dette kan brukes til å enkelt skille mellom svarte og hvite brikker)\n",
    "\n",
    "**Eksempel på kjøring: (samme brett og stilling som eksempelet i oppgave a)**\n",
    "```python\n",
    "board_string_1 = 'rkn.r.p.....P..PP.PPB.K..'\n",
    "board = make_board(board_string_1)\n",
    "```\n",
    "``` python\n",
    "get_legal_moves(board, 4, 2)\n",
    "  -> [(4, 3), (4, 4)]\n",
    " ```\n",
    " ```python\n",
    "get_legal_moves(board, 2, 4)\n",
    "   -> [(2, 3), (3, 3)] \n",
    "  ```\n",
    "  \n",
    "***Skriv koden i kodeblokken under og test at den fungerer som den skal***"
   ]
  },
  {
   "cell_type": "code",
   "execution_count": 62,
   "metadata": {},
   "outputs": [
    {
     "data": {
      "text/plain": [
       "[(2, 3), (3, 3)]"
      ]
     },
     "execution_count": 62,
     "metadata": {},
     "output_type": "execute_result"
    }
   ],
   "source": [
    "def get_legal_moves_pawn(board : list, x : int, y : int):\n",
    "    p = get_piece(board, x, y)\n",
    "    if p != \"p\" and p != \"P\":\n",
    "        return [] \n",
    "    white = True if ord(p) == 80 else False\n",
    "    flag = 1 if white else -1\n",
    "    legal_moves = []\n",
    "    \n",
    "    if (get_piece(board, x, y+(1*flag)) == None):\n",
    "        legal_moves.append((x, y+(1*flag)))\n",
    "    \n",
    "    if (y == 2 and white or y == 4 and not white):\n",
    "        if (get_piece(board, x, y+(2*flag)) == None):\n",
    "            legal_moves.append((x, y+(2*flag)))\n",
    "\n",
    "    up_right = get_piece(board, x+1, y+(1*flag))\n",
    "    if up_right == \"p\" or up_right == \"P\":\n",
    "        if p != up_right:\n",
    "            legal_moves.append((x+1, y+(1*flag)))\n",
    "    up_left =  get_piece(board, x-1, y+(1*flag))\n",
    "    if up_left == \"p\" or up_left == \"P\":\n",
    "        if p != up_left:\n",
    "            legal_moves.append((x-1, y+(1*flag)))\n",
    "    \n",
    "    return legal_moves\n",
    "\n",
    "get_legal_moves_pawn(board, 2, 4)"
   ]
  }
 ],
 "metadata": {
  "celltoolbar": "Edit Metadata",
  "kernelspec": {
   "display_name": "Python 3",
   "language": "python",
   "name": "python3"
  },
  "language_info": {
   "codemirror_mode": {
    "name": "ipython",
    "version": 3
   },
   "file_extension": ".py",
   "mimetype": "text/x-python",
   "name": "python",
   "nbconvert_exporter": "python",
   "pygments_lexer": "ipython3",
   "version": "3.11.5"
  },
  "toc": {
   "base_numbering": 1,
   "nav_menu": {},
   "number_sections": false,
   "sideBar": true,
   "skip_h1_title": false,
   "title_cell": "Table of Contents",
   "title_sidebar": "Contents",
   "toc_cell": false,
   "toc_position": {},
   "toc_section_display": true,
   "toc_window_display": false
  }
 },
 "nbformat": 4,
 "nbformat_minor": 2
}
