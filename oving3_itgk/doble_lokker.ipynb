{
 "cells": [
  {
   "cell_type": "markdown",
   "metadata": {
    "deletable": false,
    "run_control": {
     "frozen": true
    }
   },
   "source": [
    "<nav class=\"navbar navbar-default\">\n",
    "  <div class=\"container-fluid\">\n",
    "    <div class=\"navbar-header\">\n",
    "      <a class=\"navbar-brand\" href=\"_Oving3.ipynb\">Øving 3</a>\n",
    "    </div>\n",
    "    <ul class=\"nav navbar-nav\">\n",
    "      <li ><a href=\"Intro%20til%20lokker.ipynb\">Intro til løkker</a></li>\n",
    "    <li ><a href=\"Mer%20om%20lokker.ipynb\">Mer om løkker</a></li>\n",
    "    <li><a href=\"Nostede%20lokker.ipynb\">Intro til nøstede løkker</a></li>\n",
    "    <li ><a href=\"Kodeforstaelse.ipynb\">Kodeforståelse</a></li>\n",
    "    <li ><a href=\"Gjett%20tallet.ipynb\">Gjett tallet</a></li>\n",
    "       <li ><a href=\"Tekstbasert%20spill%202.ipynb\">Tekstbasert spill 2</a></li>\n",
    "    <li ><a href=\"Geometrisk%20rekke.ipynb\">Geometrisk rekke</a></li>\n",
    "    <li ><a href=\"Fibonacci.ipynb\">Fibonacci</a></li>\n",
    "    <li><a href=\"Alternerende%20sum.ipynb\">Alternerende sum</a></li>\n",
    "    <li ><a href=\"Hangman.ipynb\">Hangman</a></li>\n",
    "    <li ><a href=\"Derivasjon.ipynb\">Derivasjon</a></li>\n",
    "    <li class=\"active\"><a href=\"Doble%20lokker.ipynb\">Doble løkker</a></li>\n",
    "    </ul>\n",
    "  </div>\n",
    "</nav>\n",
    "\n",
    "# Doble løkker - til dels vanskelig\n",
    "\n",
    "**Læringsmål:**\n",
    "\n",
    "* Nøstede løkker\n"
   ]
  },
  {
   "cell_type": "markdown",
   "metadata": {
    "deletable": false,
    "run_control": {
     "frozen": true
    }
   },
   "source": [
    "a)  Skriv en funksjon som tar inn et heltall og benytter seg av en dobbel for-løkke og skriver ut følgende:\n",
    "\n",
    "```python\n",
    "triangle(5)\n",
    "1\n",
    "1 2\n",
    "1 2 3\n",
    "1 2 3 4\n",
    "1 2 3 4 5\n",
    "```\n",
    "\n",
    "***Skriv koden din her:***"
   ]
  },
  {
   "cell_type": "code",
   "execution_count": 14,
   "metadata": {
    "ExecuteTime": {
     "end_time": "2019-07-03T06:31:27.370599Z",
     "start_time": "2019-07-03T06:31:27.365228Z"
    }
   },
   "outputs": [
    {
     "name": "stdout",
     "output_type": "stream",
     "text": [
      "\n",
      "\n",
      "1 \n",
      "\n",
      "1 2 \n",
      "\n",
      "1 2 3 \n",
      "\n",
      "1 2 3 4 \n",
      "\n",
      "1 2 3 4 5 "
     ]
    }
   ],
   "source": [
    "def triangle(n):\n",
    "    for x in range(1, n+1):\n",
    "        print(\"\\n\")\n",
    "        for y in range(1, x+1):\n",
    "            print(y, end=\" \")\n",
    "\n",
    "triangle(5)"
   ]
  },
  {
   "cell_type": "markdown",
   "metadata": {
    "deletable": false,
    "run_control": {
     "frozen": true
    }
   },
   "source": [
    "b) Skriv en funksjon som tar inn et heltall n benytter seg av en dobbel for-løkke og skriver ut følgende:\n",
    "\n",
    "```python\n",
    "x(5)\n",
    "X X\n",
    "X  X\n",
    "X   X\n",
    "X    X\n",
    "X     X\n",
    "```\n",
    "\n",
    "***Skriv koden din her:***"
   ]
  },
  {
   "cell_type": "code",
   "execution_count": 8,
   "metadata": {
    "ExecuteTime": {
     "end_time": "2019-07-03T06:36:27.852028Z",
     "start_time": "2019-07-03T06:36:27.844946Z"
    }
   },
   "outputs": [
    {
     "name": "stdout",
     "output_type": "stream",
     "text": [
      "x(5)\n",
      "X X\n",
      "X  X\n",
      "X   X\n",
      "X    X\n",
      "X     X\n"
     ]
    }
   ],
   "source": [
    "def x(n):\n",
    "    print(f\"x({n})\")\n",
    "    for x in range(1, n+1):\n",
    "        print(\"X\", end=\"\")\n",
    "        for y in range(1, x+1):\n",
    "            print(\" \", end=\"\")\n",
    "        print(\"X\")\n",
    "\n",
    "x(5)"
   ]
  },
  {
   "cell_type": "markdown",
   "metadata": {
    "deletable": false,
    "run_control": {
     "frozen": true
    }
   },
   "source": [
    "**c)** \n",
    "Lag en funksjon, primtallsfaktorisering(n) som returnerer primtallsfaktoriseringen til tallet, eller evt. at det allerede er et primtall. Eksempel på et par kjøringer:\n",
    "```python\n",
    "\n",
    "primtallsfaktorisering(2)\n",
    "2 er et primtall\n",
    ">>>\n",
    "\n",
    "primtallsfaktorisering(38)\n",
    "38 = 2*19\n",
    ">>>\n",
    "primtallsfakorisering(1000)\n",
    "1000 = 2*2*2*5*5*5\n",
    ">>>\n",
    "primtallsfaktorisering(73727)\n",
    "73727 er et primtall\n",
    ">>>\n",
    "primtallsfaktorisering(123456789)\n",
    "123456789 = 3*3*3607*3803\n",
    ">>>\n",
    "```\n",
    "\n",
    "Dette er et problem som peker i retning av dobbel løkke fordi samme tall kan være faktor flere ganger, som f.eks. i `1000  = 2*2*2*5*5*5`. Den ytre løkka trengs for å prøve ut stadig nye faktorer, den indre for å prøve om igjen samme faktor, i tilfelle den inngår flere ganger i tallet.\n",
    "\n",
    "***Skriv koden din her:***"
   ]
  },
  {
   "cell_type": "code",
   "execution_count": 5,
   "metadata": {
    "ExecuteTime": {
     "end_time": "2019-07-03T06:38:34.639856Z",
     "start_time": "2019-07-03T06:38:34.633773Z"
    }
   },
   "outputs": [
    {
     "name": "stdout",
     "output_type": "stream",
     "text": [
      "[3, 3, 3607, 3803]\n"
     ]
    }
   ],
   "source": [
    "from sympy import isprime\n",
    "\n",
    "def prime_factorization(num):\n",
    "    primes = []\n",
    "    for x in range(2, num):\n",
    "        if (num % x) == 0 and isprime(x):\n",
    "            temp = num\n",
    "            while (temp % x) == 0:\n",
    "                primes.append(x)\n",
    "                temp /= x\n",
    "    \n",
    "    if len(primes) == 0:\n",
    "        return f\"{num} is a prime\"\n",
    "\n",
    "    return primes\n",
    "\n",
    "print(prime_factorization(123456789))"
   ]
  },
  {
   "cell_type": "markdown",
   "metadata": {
    "deletable": false,
    "editable": false,
    "run_control": {
     "frozen": true
    }
   },
   "source": [
    "**d)** Du skal hjelpe frøken Bernsen med å lage et enkelt program hvor elevene kan øve seg på den lille gangetabellen. Eleven skal stadig møte på nye gangestykker, og får 3 forsøk på hvert spørsmål. Benytt deg av randint(0,9) for å få tilfeldige tall for hvert gangestykke. Programmet skal fortsette frem til eleven gir beskjed om noe annet.\n",
    "\n",
    "Eksempel på kjøring:\n",
    "\n",
    "```python\n",
    "Hva blir 2*0? 0\n",
    "Gratulerer, det er helt riktig!\n",
    "Er det ønskelig med flere spørsmål? Skriv 1 for ja og 0 for nei: 1\n",
    ">>> \n",
    "Hva blir 8*6? 42\n",
    "Dessverre ikke riktig. Du har 2 forsøk igjen.\n",
    "Hva blir 8*6? 48\n",
    "Gratulerer, det er helt riktig!\n",
    "Er det ønskelig med flere spørsmål? Skriv 1 for ja og 0 for nei: 1\n",
    ">>>\n",
    "Hva blir 8*9? 73\n",
    "Dessverre ikke riktig. Du har 2 forsøk igjen.\n",
    "Hva blir 8*9? 74\n",
    "Dessverre ikke riktig. Du har 1 forsøk igjen.\n",
    "Hva blir 8*9? 78\n",
    "Dessverre ikke riktig. Du har 0 forsøk igjen.\n",
    "Dessverre klarte du ikke dette regnestykket, men vent så får du et nytt et:)\n",
    "Er det ønskelig med flere spørsmål? Skriv 1 for ja og 0 for nei: 1\n",
    ">>>\n",
    "Hva blir 9*1? 9\n",
    "Gratulerer, det er helt riktig!\n",
    "Er det ønskelig med flere spørsmål? Skriv 1 for ja og 0 for nei: 0\n",
    ">>>\n",
    "```\n",
    "\n",
    "***Skriv koden din her:***"
   ]
  },
  {
   "cell_type": "code",
   "execution_count": 4,
   "metadata": {
    "ExecuteTime": {
     "end_time": "2019-07-03T06:40:51.257308Z",
     "start_time": "2019-07-03T06:40:51.248787Z"
    }
   },
   "outputs": [
    {
     "name": "stdout",
     "output_type": "stream",
     "text": [
      "That's not quite right. You have 2 lives left\n",
      "That's not quite right. You have 1 lives left\n",
      "Unfortunately you lost all your lives.\n"
     ]
    }
   ],
   "source": [
    "from random import randint\n",
    "\n",
    "def multiplication_game():\n",
    "    x, y = randint(0,5), randint(0,5)\n",
    "    cont = 1\n",
    "    n_lives = 3\n",
    "    streak = 0\n",
    "    c = 1\n",
    "\n",
    "    while cont == 1 and n_lives > 0:\n",
    "        guess = int(input(f\"What is {x} * {y}?\"))\n",
    "        if guess == x*y:\n",
    "            streak += 1\n",
    "            if streak == 5:\n",
    "                streak = 0\n",
    "                c += 1\n",
    "            cont = int(input(\"Correct! Do you want to play again?(1/0): \"))\n",
    "            n_lives = 3\n",
    "            x, y = randint(0,5*c), randint(0,5*c)\n",
    "\n",
    "        else:\n",
    "            n_lives -= 1\n",
    "            streak = 0\n",
    "            if n_lives == 0:\n",
    "                print(\"Unfortunately you lost all your lives.\")\n",
    "                cont = int(input(\"Do you want to play again?(1/0): \"))\n",
    "                n_lives = 3\n",
    "                x, y = randint(0,5), randint(0,5)\n",
    "            else:\n",
    "                print(f\"That's not quite right. You have {n_lives} lives left\")\n",
    "\n",
    "        \n",
    "multiplication_game()"
   ]
  },
  {
   "cell_type": "markdown",
   "metadata": {
    "deletable": false,
    "editable": false,
    "run_control": {
     "frozen": true
    }
   },
   "source": [
    "**e)** (frivillig)\n",
    "\n",
    "Du skal endre programmet ditt fra d) slik at eleven først får veldig lette gangestykker ved å bruke randint(0,5) (fra random-biblioteket). Dersom eleven klarer å svare rett på 5 spørsmål på rad (eleven kan fremdeles bruke 3 forsøk), skal vanskelighetsgraden øke ved å bruke randint(0,10). Dette intervallet skal altså øke med 5 for hver gang eleven svarer korrekt på 5 spørsmål på rad. \n",
    "\n",
    "Eksempel på kjøring:\n",
    "\n",
    "```python\n",
    "Hva blir 1*2? 2                                                    #1 riktig svar\n",
    "Gratulerer, det er helt riktig!\n",
    "Er det ønskelig med flere spørsmål? Skriv 1 for ja og 0 for nei: 1\n",
    "```\n",
    "```python\n",
    "Hva blir 1*5? 5                                                    #2 riktige svar\n",
    "Gratulerer, det er helt riktig!\n",
    "Er det ønskelig med flere spørsmål? Skriv 1 for ja og 0 for nei: 1\n",
    " ```\n",
    " ```python\n",
    "Hva blir 3*5? 15                                                   #3 riktige svar\n",
    "Gratulerer, det er helt riktig!\n",
    "Er det ønskelig med flere spørsmål? Skriv 1 for ja og 0 for nei: 1\n",
    " ```\n",
    " ```python\n",
    "Hva blir 2*1? 2                                                    #4 riktige svar\n",
    "Gratulerer, det er helt riktig!\n",
    "Er det ønskelig med flere spørsmål? Skriv 1 for ja og 0 for nei: 1\n",
    " ```\n",
    " ```python\n",
    "Hva blir 2*0? 2\n",
    "Dessverre ikke riktig. Du har 2 forsøk igjen.\n",
    "Hva blir 2*0? 0                                                    #5 riktige svar\n",
    "Gratulerer, det er helt riktig!\n",
    "Er det ønskelig med flere spørsmål? Skriv 1 for ja og 0 for nei: 1\n",
    " ```\n",
    " ```python\n",
    "Hva blir 0*10? 0                                                    #Intervallet har økt og 1 riktig svar\n",
    "Gratulerer, det er helt riktig!\n",
    "Er det ønskelig med flere spørsmål? Skriv 1 for ja og 0 for nei: 1\n",
    ".\n",
    ".\n",
    ".\n",
    "Hva blir 15*29? 435                                                 \n",
    "Gratulerer, det er helt riktig!\n",
    "Er det ønskelig med flere spørsmål? Skriv 1 for ja og 0 for nei: 0\n",
    "```"
   ]
  }
 ],
 "metadata": {
  "celltoolbar": "Edit Metadata",
  "kernelspec": {
   "display_name": "Python 3.9.12 ('base')",
   "language": "python",
   "name": "python3"
  },
  "language_info": {
   "codemirror_mode": {
    "name": "ipython",
    "version": 3
   },
   "file_extension": ".py",
   "mimetype": "text/x-python",
   "name": "python",
   "nbconvert_exporter": "python",
   "pygments_lexer": "ipython3",
   "version": "3.11.5"
  },
  "toc": {
   "base_numbering": 1,
   "nav_menu": {},
   "number_sections": false,
   "sideBar": true,
   "skip_h1_title": false,
   "title_cell": "Table of Contents",
   "title_sidebar": "Contents",
   "toc_cell": false,
   "toc_position": {},
   "toc_section_display": true,
   "toc_window_display": false
  },
  "vscode": {
   "interpreter": {
    "hash": "c7a835b0bfaf10a8e5ac8dbb78b220fe60aa37deac6d6fc977a5312d437a60b7"
   }
  }
 },
 "nbformat": 4,
 "nbformat_minor": 2
}
